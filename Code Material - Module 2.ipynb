{
 "cells": [
  {
   "cell_type": "markdown",
   "metadata": {},
   "source": [
    "# input function"
   ]
  },
  {
   "cell_type": "code",
   "execution_count": 1,
   "metadata": {},
   "outputs": [
    {
     "name": "stdout",
     "output_type": "stream",
     "text": [
      "[1, 3, 5, 7, 9, 11, 13, 15, 17, 19, 21, 23, 25, 27, 29, 31, 33, 35, 37, 39, 41, 43, 45, 47, 49, 51, 53, 55, 57, 59, 61, 63, 65, 67, 69, 71, 73, 75, 77, 79, 81, 83, 85, 87, 89, 91, 93, 95, 97, 99]\n"
     ]
    }
   ],
   "source": [
    "# getting only odd numbers from 100 numbers\n",
    "\n",
    "x = []\n",
    "for i in range(100):\n",
    "    if i % 2:\n",
    "        x.append(i)\n",
    "print(x)"
   ]
  },
  {
   "cell_type": "code",
   "execution_count": 5,
   "metadata": {},
   "outputs": [
    {
     "name": "stdout",
     "output_type": "stream",
     "text": [
      "s\n",
      "t\n",
      "r\n",
      "i\n",
      "n\n",
      "g\n"
     ]
    }
   ],
   "source": [
    "#for variable in iterable:\n",
    "#    statements\n",
    "#iterable means list, tuple, sets, dictionaries, string\n",
    "\n",
    "x  = 'string'\n",
    "for i in x:\n",
    "    print(i)\n",
    "    \n"
   ]
  },
  {
   "cell_type": "code",
   "execution_count": 2,
   "metadata": {},
   "outputs": [
    {
     "name": "stdout",
     "output_type": "stream",
     "text": [
      "1\n",
      "hello\n"
     ]
    }
   ],
   "source": [
    "for i in range(1,3):\n",
    "    if(i%2==0):\n",
    "        for j in range(i,2):\n",
    "            print('hi')\n",
    "        else:\n",
    "            print('hello')\n",
    "    else:\n",
    "        for j in range(i,3):\n",
    "            pass\n",
    "        else:\n",
    "            print(i)"
   ]
  },
  {
   "cell_type": "code",
   "execution_count": 1,
   "metadata": {},
   "outputs": [
    {
     "name": "stdout",
     "output_type": "stream",
     "text": [
      "Enter a number10\n"
     ]
    },
    {
     "ename": "TypeError",
     "evalue": "can only concatenate str (not \"int\") to str",
     "output_type": "error",
     "traceback": [
      "\u001b[0;31m---------------------------------------------------------------------------\u001b[0m",
      "\u001b[0;31mTypeError\u001b[0m                                 Traceback (most recent call last)",
      "\u001b[0;32m<ipython-input-1-01d2a86d5b1f>\u001b[0m in \u001b[0;36m<module>\u001b[0;34m\u001b[0m\n\u001b[1;32m     11\u001b[0m \u001b[0mvar1\u001b[0m\u001b[0;34m=\u001b[0m\u001b[0minput\u001b[0m\u001b[0;34m(\u001b[0m\u001b[0;34m'Enter a number'\u001b[0m\u001b[0;34m)\u001b[0m\u001b[0;34m\u001b[0m\u001b[0;34m\u001b[0m\u001b[0m\n\u001b[1;32m     12\u001b[0m \u001b[0mvar2\u001b[0m\u001b[0;34m=\u001b[0m\u001b[0;36m6\u001b[0m\u001b[0;34m\u001b[0m\u001b[0;34m\u001b[0m\u001b[0m\n\u001b[0;32m---> 13\u001b[0;31m \u001b[0mresult\u001b[0m\u001b[0;34m=\u001b[0m\u001b[0mvar1\u001b[0m\u001b[0;34m+\u001b[0m\u001b[0mvar2\u001b[0m\u001b[0;34m\u001b[0m\u001b[0;34m\u001b[0m\u001b[0m\n\u001b[0m\u001b[1;32m     14\u001b[0m \u001b[0mprint\u001b[0m\u001b[0;34m(\u001b[0m\u001b[0mresult\u001b[0m\u001b[0;34m)\u001b[0m\u001b[0;34m\u001b[0m\u001b[0;34m\u001b[0m\u001b[0m\n",
      "\u001b[0;31mTypeError\u001b[0m: can only concatenate str (not \"int\") to str"
     ]
    }
   ],
   "source": [
    "# input function syntax\n",
    "\n",
    "'''\n",
    "    value = input(message)\n",
    "    \n",
    "    where message is any valid string\n",
    "    and value is the return value of input function which is always a string\n",
    "'''\n",
    "\n",
    "# Example 1\n",
    "\n",
    "var1=input('Enter a number ')\n",
    "var2=6\n",
    "result=var1+var2\n",
    "print(result)"
   ]
  },
  {
   "cell_type": "markdown",
   "metadata": {},
   "source": [
    "# What caused the above error? "
   ]
  },
  {
   "cell_type": "code",
   "execution_count": null,
   "metadata": {},
   "outputs": [],
   "source": [
    "# Remember that data read using input() function always provides value as a string by default. \n",
    "# So if we want to use the data for numeric operations then we have to convert explicitly using \n",
    "# int or float functions based on the requirement. There is no implicit casting or data type \n",
    "# conversion possible in python.\n",
    "\n",
    "# In the above example, value of var1 which is 10 is read as string. When we try to add var1\n",
    "# with var2 which is a number value 6 it gives an error. Because we cannot add string with\n",
    "# a number. "
   ]
  },
  {
   "cell_type": "markdown",
   "metadata": {},
   "source": [
    "# Is there a way to fix this? Yes, below are some solutions."
   ]
  },
  {
   "cell_type": "code",
   "execution_count": 2,
   "metadata": {},
   "outputs": [
    {
     "name": "stdout",
     "output_type": "stream",
     "text": [
      "Enter a number 10\n",
      "16.0\n"
     ]
    }
   ],
   "source": [
    "# Solution1 for Example 1\n",
    "\n",
    "# Example 1 \n",
    "\n",
    "var1=input('Enter a number ')\n",
    "var1 = float(var1) # you can use int function also if you want to provide only integer values\n",
    "var2=6\n",
    "result=var1+var2\n",
    "print(result)"
   ]
  },
  {
   "cell_type": "code",
   "execution_count": 3,
   "metadata": {},
   "outputs": [
    {
     "name": "stdout",
     "output_type": "stream",
     "text": [
      "Enter a number 10\n",
      "16\n"
     ]
    }
   ],
   "source": [
    "# Solution2 for Example 1\n",
    "\n",
    "# You can also use eval() function to solve the problem. \n",
    "# Because it will automatically detect the data type of variable user is passing. \n",
    "\n",
    "var1=input('Enter a number ')\n",
    "var1 = eval(var1) # automatically detects the data type of given value\n",
    "var2=6\n",
    "result=var1+var2\n",
    "print(result)"
   ]
  },
  {
   "cell_type": "markdown",
   "metadata": {},
   "source": [
    "# File Operations"
   ]
  },
  {
   "cell_type": "code",
   "execution_count": 4,
   "metadata": {},
   "outputs": [
    {
     "name": "stdout",
     "output_type": "stream",
     "text": [
      "<class 'str'>\n",
      "File Contents are:\n",
      "Welcome to Python Programming World.\n",
      "Edureka Welcomes You.\n"
     ]
    }
   ],
   "source": [
    "# Program to read a file using read() function and print contents of the file\n",
    "\n",
    "def main():\n",
    "    fp = open('File_1.txt', 'r') # opens File_1.txt file in read mode. The default mode is 'r' so no need to specify\n",
    "    file_content = fp.read()     # reads the entire content of file as string\n",
    "    #print(type(file_content))\n",
    "    print(\"File Contents are:\")\n",
    "    print(file_content)          # prints content of file read\n",
    "    fp.close()         # closes the file pointer object\n",
    "main()"
   ]
  },
  {
   "cell_type": "code",
   "execution_count": 34,
   "metadata": {},
   "outputs": [
    {
     "name": "stdout",
     "output_type": "stream",
     "text": [
      "File Contents are:\n",
      "\n"
     ]
    }
   ],
   "source": [
    "# Program to read some number of characters from a file\n",
    "\n",
    "def main():\n",
    "    fp = open('File_1.txt') # opens File_1.txt file in read mode\n",
    "    file_content = fp.read(10)     # reads the entire content of file as string\n",
    "    print(\"File Contents are:\")\n",
    "    print(file_content)          # prints content of file read\n",
    "    fp.close()         # closes the file pointer object\n",
    "main()"
   ]
  },
  {
   "cell_type": "code",
   "execution_count": 30,
   "metadata": {},
   "outputs": [
    {
     "name": "stdout",
     "output_type": "stream",
     "text": [
      "hello world\n",
      "\n",
      "hi how are you\n",
      "\n",
      "hello world\n",
      "\n",
      "hi how are you\n",
      "\n",
      "hello world\n",
      "\n",
      "hi how are you\n",
      "\n",
      "hello world\n",
      "\n",
      "hi how are you\n",
      "\n",
      "hello world\n",
      "\n",
      "hi how are you\n",
      "\n",
      "No of lines in file is:  10\n"
     ]
    }
   ],
   "source": [
    "# Program to read contents of file line by line\n",
    "# We have readline() function to do that. \n",
    "\n",
    "\n",
    "def main():\n",
    "    fp = open('/Users/bonkv/edureka/Module2/Demo2/File_2.txt') # opens File_New.txt file in read mode\n",
    "    file_content = fp.readline()    # reads the first line of file\n",
    "    ctr = 0\n",
    "    # loop to read the file contents of file till end\n",
    "    # When there are no file contents python returns empty line\n",
    "    while file_content:\n",
    "        print(file_content)\n",
    "        file_content = fp.readline()\n",
    "        ctr += 1\n",
    "        if ctr == 10:\n",
    "            break\n",
    "    print('No of lines in file is: ', ctr)\n",
    "    fp.close()         # closes the file pointer object\n",
    "main()"
   ]
  },
  {
   "cell_type": "code",
   "execution_count": 32,
   "metadata": {},
   "outputs": [],
   "source": [
    "# writing content to a file\n",
    "\n",
    "def main():\n",
    "    fp = open('File_2.txt', 'w') # opens File_2.txt file in write mode\n",
    "    \n",
    "    fp.write('hello world\\n') # writes string to the file File_2.txt\n",
    "    fp.write('hi how are you\\n') # writes string to the file File_2.txt\n",
    "    fp.close()         # closes the file pointer object\n",
    "main()"
   ]
  },
  {
   "cell_type": "markdown",
   "metadata": {},
   "source": [
    "# In the above program when you open a file in write mode it flushes its previous content and make it a fresh file. Also even there are multiple write operations we can see in file it is not written line by line because write operation does not add a new line ('\\n') automatically. So we have to add explicit new line to write line-by-line. "
   ]
  },
  {
   "cell_type": "code",
   "execution_count": 21,
   "metadata": {},
   "outputs": [
    {
     "name": "stdout",
     "output_type": "stream",
     "text": [
      "File name is  File_1.txt\n",
      "File mode is  a\n",
      "Is file closed?  True\n"
     ]
    }
   ],
   "source": [
    "# checking file attributes\n",
    "\n",
    "def main():\n",
    "    fp = open('File_1.txt', 'a')\n",
    "    \n",
    "    print('File name is ', fp.name) # gets name of the file\n",
    "    print('File mode is ', fp.mode) # get mode of the file i.e. r(read), w(write) etc\n",
    "    print('Is file closed? ', fp.closed) # returns True if file is closed otherwise False\n",
    "    \n",
    "main()"
   ]
  },
  {
   "cell_type": "code",
   "execution_count": 22,
   "metadata": {},
   "outputs": [
    {
     "name": "stdout",
     "output_type": "stream",
     "text": [
      "File pointer is at 0\n",
      "File contents\n",
      "Edureka rocks0\n",
      "Edureka rocks1\n",
      "Edureka rocks2\n",
      "Edureka rocks3\n",
      "Edureka rocks4\n",
      "Python rocks0\n",
      "Python rocks1\n",
      "Python rocks2\n",
      "Python rocks3\n",
      "Python rocks4\n",
      "\n",
      "File pointer is at 145\n",
      "File contents\n",
      "\n",
      "File contents\n",
      "Edureka rocks0\n",
      "Edureka rocks1\n",
      "Edureka rocks2\n",
      "Edureka rocks3\n",
      "Edureka rocks4\n",
      "Python rocks0\n",
      "Python rocks1\n",
      "Python rocks2\n",
      "Python rocks3\n",
      "Python rocks4\n",
      "\n"
     ]
    }
   ],
   "source": [
    "# seek() and tell() file operations\n",
    "\n",
    "def main():\n",
    "    fp = open('File_New.txt', 'r+')\n",
    "    \n",
    "    # getting file pointer positiono\n",
    "    print('File pointer is at', fp.tell())\n",
    "    # reading file contents\n",
    "    print('File contents')\n",
    "    print(fp.read())\n",
    "    # getting file pointer position\n",
    "    print('File pointer is at', fp.tell())\n",
    "    \n",
    "    # reading file contents\n",
    "    print('File contents')\n",
    "    print(fp.read()) # file contents did not get displayed because file reached at the end of file\n",
    "    \n",
    "    # using seek you can reset the file pointer to any position\n",
    "    # so lets reset to the starting position\n",
    "    fp.seek(0)\n",
    "    # reading file contents\n",
    "    print('File contents')\n",
    "    print(fp.read())\n",
    "    \n",
    "main()"
   ]
  },
  {
   "cell_type": "code",
   "execution_count": 24,
   "metadata": {},
   "outputs": [],
   "source": [
    "# file rename and remove operations\n",
    "import os\n",
    "\n",
    "#os.rename('File_New.txt', 'File_NewClass.txt')\n",
    "#os.rename('File_New2.txt', 'File_New.txt')\n",
    "os.remove('File_NewClass.txt')\n"
   ]
  },
  {
   "cell_type": "code",
   "execution_count": 38,
   "metadata": {},
   "outputs": [
    {
     "name": "stdout",
     "output_type": "stream",
     "text": [
      "Enter a line? \n",
      "hi\n",
      "Enter a line? \n",
      "hello\n",
      "Enter a line? \n",
      "how\n"
     ]
    }
   ],
   "source": [
    "def main():\n",
    "\n",
    "    fp = open('Test.txt', 'a')\n",
    "    i = 1\n",
    "    while i <= 3:\n",
    "        print('Enter a line? ')\n",
    "        line = input()\n",
    "        fp.write(line + '\\n')\n",
    "        i += 1\n",
    "        \n",
    "    fp.close()\n",
    "        \n",
    "main()"
   ]
  },
  {
   "cell_type": "markdown",
   "metadata": {},
   "source": [
    "# List Operations"
   ]
  },
  {
   "cell_type": "code",
   "execution_count": 42,
   "metadata": {},
   "outputs": [
    {
     "name": "stdout",
     "output_type": "stream",
     "text": [
      "24\n",
      "50\n",
      "2\n",
      "27.291666666666668\n",
      "[2, 3, 4, 10, 17, 18, 19, 21, 21, 22, 22, 27, 30, 30, 32, 33, 33, 40, 40, 42, 44, 45, 50, 50]\n",
      "[27, 30, 40, 50, 22, 21, 32, 33, 42, 19, 18, 17, 44, 10, 2, 4, 3, 45, 33, 22, 21, 30, 40, 50]\n",
      "[30, 40, 50, 22, 21, 32, 33, 42, 19, 18, 17, 44, 10, 2, 4, 3, 45, 33, 22, 21, 30, 40, 50]\n"
     ]
    }
   ],
   "source": [
    "temp = [27, 30, 40, 50, 22, 21, 32, 33, 42, 19, 18, 17, 44, 10, 2, 4, 3, 45, 33, 22, 21, 30, 40, 50]\n",
    "\n",
    "# general built in functions that can be applied on any sequence\n",
    "print(len(temp))\n",
    "print(max(temp))\n",
    "print(min(temp))\n",
    "print(sum(temp)/len(temp))\n",
    "print(sorted(temp))\n",
    "print(temp)\n",
    "\n",
    "# deleting specific element from a list\n",
    "del(temp[0])\n",
    "print(temp)\n",
    "# deleting entire list\n",
    "del(temp)\n",
    "#print(temp)"
   ]
  },
  {
   "cell_type": "code",
   "execution_count": 47,
   "metadata": {},
   "outputs": [
    {
     "name": "stdout",
     "output_type": "stream",
     "text": [
      "27\n",
      "21\n",
      "50\n",
      "22\n",
      "[27, 30, 40, 50, 22, 21, 32, 33, 42, 19, 18, 17, 44, 10, 2, 4, 3, 45, 33, 22, 21, 30, 40, 50, 100]\n",
      "[27, 30, 40, 50, 22, 21, 32, 33, 42, 19, 18, 17, 44, 10, 2, 4, 3, 45, 33, 22, 21, 30, 40, 50, 100, 1000, 2000, 3000]\n",
      "[27, 19999, 30, 40, 50, 22, 21, 32, 33, 42, 19, 18, 17, 44, 10, 2, 4, 3, 45, 33, 22, 21, 30, 40, 50, 100, 1000, 2000, 3000]\n",
      "1\n",
      "2\n",
      "before sorting [27, 19999, 30, 40, 50, 22, 21, 32, 33, 42, 19, 18, 17, 44, 10, 2, 4, 3, 45, 33, 22, 21, 30, 40, 50, 100, 1000, 2000, 3000]\n",
      "after sorting [19999, 3000, 2000, 1000, 100, 50, 50, 45, 44, 42, 40, 40, 33, 33, 32, 30, 30, 27, 22, 22, 21, 21, 19, 18, 17, 10, 4, 3, 2]\n",
      "[19999, 3000, 2000, 1000, 100, 50, 50, 45, 44, 42, 40, 40, 33, 33, 32, 30, 30, 27, 22, 22, 21, 21, 19, 18, 17, 10, 4, 3, 2]\n",
      "[19999, 3000, 2000, 1000, 100, 50, 50, 45, 44, 42, 40, 40, 33, 33, 32, 30, 30, 27, 22, 22, 21, 21, 19, 18, 17, 10, 4, 3]\n",
      "[19999, 3000, 2000, 1000, 100, 50, 50, 45, 44, 42, 40, 40, 33, 33, 32, 30, 30, 27, 22, 22, 21, 19, 18, 17, 10, 4, 3]\n",
      "list before updating [3, 4, 10, 17, 18, 19, 21, 22, 22, 27, 30, 30, 32, 33, 33, 40, 40, 42, 44, 45, 50, 50, 100, 1000, 2000, 3000, 19999]\n",
      "list after updating [3, 'hello world', 10, 17, 18, 19, 21, 22, 22, 27, 30, 30, 32, 33, 33, 40, 40, 42, 44, 45, 50, 50, 100, 1000, 2000, 3000, 19999]\n",
      "after updating multiple values [3, [1, 2, 3], 10, 17, 18, 19, 21, 22, 22, 27, 30, 30, 32, 33, 33, 40, 40, 42, 44, 45, 50, 50, 100, 1000, 2000, 3000, 19999]\n"
     ]
    }
   ],
   "source": [
    "# commonly used list operations\n",
    "\n",
    "temp = [27, 30, 40, 50, 22, 21, 32, 33, 42, 19, 18, 17, 44, 10, 2, 4, 3, 45, 33, 22, 21, 30, 40, 50]\n",
    "\n",
    "# accessing elements from list\n",
    "print(temp[0])\n",
    "print(temp[5])\n",
    "\n",
    "# accessing list elements from right side using negative indexes\n",
    "print(temp[-1])\n",
    "print(temp[-5])\n",
    "\n",
    "# Adding an element to a list\n",
    "temp.append(100)\n",
    "print(temp)\n",
    "# Adding multiple elements to a list\n",
    "temp.extend([1000, 2000, 3000])\n",
    "print(temp)\n",
    "\n",
    "# Inserting an element into a list\n",
    "temp.insert(1, 19999)\n",
    "print(temp)\n",
    "# getting index of a given element\n",
    "print(temp.index(19999))\n",
    "\n",
    "# getting count of a given element\n",
    "print(temp.count(22))\n",
    "# sorting a list\n",
    "print('before sorting', temp)\n",
    "temp.sort(reverse = True)\n",
    "print('after sorting', temp)\n",
    "print(temp)\n",
    "\n",
    "# removing last element from the list\n",
    "temp.pop()\n",
    "print(temp)\n",
    "# removing particular element from the list\n",
    "temp.remove(21)\n",
    "print(temp)\n",
    "# reversing a given list\n",
    "temp.reverse()\n",
    "print('list before updating', temp)\n",
    "temp[1] = 'hello world'\n",
    "print('list after updating', temp)\n",
    "temp[1] = [1,2,3]\n",
    "print('after updating multiple values', temp)\n"
   ]
  },
  {
   "cell_type": "code",
   "execution_count": 28,
   "metadata": {},
   "outputs": [
    {
     "name": "stdout",
     "output_type": "stream",
     "text": [
      "[27, 30, 40]\n",
      "40\n"
     ]
    }
   ],
   "source": [
    "# Accessing nested lists\n",
    "\n",
    "temp = [[27, 30, 40], [50, 22, 21], [32, 33, 42]]\n",
    "print(temp[0])\n",
    "print(temp[0][2])"
   ]
  },
  {
   "cell_type": "code",
   "execution_count": 56,
   "metadata": {},
   "outputs": [
    {
     "name": "stdout",
     "output_type": "stream",
     "text": [
      "[27, 40]\n",
      "[21, 30, 40, 50]\n",
      "[27, 30, 40, 50, 22, 21, 32, 33, 42, 19, 18, 17, 44, 10, 2, 4, 3, 45, 33, 22, 21, 30, 40, 50]\n",
      "original list [22, 21, 32, 33, 42, 19, 18, 17, 44, 10, 2, 4, 3, 45, 33, 22, 21, 30, 40, 50]\n",
      "list after deleting [22, 18, 17, 44, 10, 2, 4, 3, 45, 33, 22, 21, 30, 40, 50]\n",
      "[22, 18, 17, 44, 10, 2, 4, 3, 45, 33, 22, 21, 30, 40, 50]\n",
      "[50, 40, 30, 21, 22, 33, 45, 3, 4, 2, 10, 44, 17, 18, 22]\n",
      "[4, 3]\n"
     ]
    }
   ],
   "source": [
    "# Accessing list elements using slicing\n",
    "\n",
    "# list slicing syntax\n",
    "# list_var[start: stop: step]\n",
    "# where start by default is 0th index, stop by default is length of given sequence minus 1 and step by default is 1\n",
    "\n",
    "temp = [27, 30, 40, 50, 22, 21, 32, 33, 42, 19, 18, 17, 44, 10, 2, 4, 3, 45, 33, 22, 21, 30, 40, 50]\n",
    "\n",
    "print(temp[0:4:2]) # temp[0], temp[1], temp[2], temp[3] # gets a sublist of element from 0th location to 3rd element\n",
    "print(temp[20:]) # gets a sublist from 20th index location to end of the elements in list\n",
    "print(temp[:]) # temp[0:24:1] # gets the entire list\n",
    "del temp[0:4]\n",
    "print('original list', temp)\n",
    "del temp[1:6]\n",
    "print('list after deleting', temp)\n",
    "print(temp)\n",
    "print(temp[::-1]) # reverses the list\n",
    "\n",
    "x = [1,2,3,4]\n",
    "print(x[4:1:-1])"
   ]
  },
  {
   "cell_type": "code",
   "execution_count": 53,
   "metadata": {},
   "outputs": [
    {
     "name": "stdout",
     "output_type": "stream",
     "text": [
      "0 22\n",
      "1 18\n",
      "2 17\n",
      "3 44\n",
      "4 10\n",
      "5 2\n",
      "6 4\n",
      "7 3\n",
      "8 45\n",
      "9 33\n",
      "10 22\n",
      "11 21\n",
      "12 30\n",
      "13 40\n",
      "14 50\n"
     ]
    }
   ],
   "source": [
    "# printing list along with its index\n",
    "\n",
    "for i in range(len(temp)):\n",
    "    print(i, temp[i])"
   ]
  },
  {
   "cell_type": "markdown",
   "metadata": {},
   "source": [
    "# Tuple Operations"
   ]
  },
  {
   "cell_type": "code",
   "execution_count": 29,
   "metadata": {},
   "outputs": [
    {
     "name": "stdout",
     "output_type": "stream",
     "text": [
      "24\n",
      "50\n",
      "2\n",
      "27.291666666666668\n",
      "[2, 3, 4, 10, 17, 18, 19, 21, 21, 22, 22, 27, 30, 30, 32, 33, 33, 40, 40, 42, 44, 45, 50, 50]\n"
     ]
    },
    {
     "ename": "TypeError",
     "evalue": "'tuple' object doesn't support item deletion",
     "output_type": "error",
     "traceback": [
      "\u001b[0;31m---------------------------------------------------------------------------\u001b[0m",
      "\u001b[0;31mTypeError\u001b[0m                                 Traceback (most recent call last)",
      "\u001b[0;32m<ipython-input-29-1d4506f93247>\u001b[0m in \u001b[0;36m<module>\u001b[0;34m\u001b[0m\n\u001b[1;32m      8\u001b[0m \u001b[0mprint\u001b[0m\u001b[0;34m(\u001b[0m\u001b[0msorted\u001b[0m\u001b[0;34m(\u001b[0m\u001b[0mtemp\u001b[0m\u001b[0;34m)\u001b[0m\u001b[0;34m)\u001b[0m\u001b[0;34m\u001b[0m\u001b[0;34m\u001b[0m\u001b[0m\n\u001b[1;32m      9\u001b[0m \u001b[0;31m# deleting specific element from a tuple\u001b[0m\u001b[0;34m\u001b[0m\u001b[0;34m\u001b[0m\u001b[0;34m\u001b[0m\u001b[0m\n\u001b[0;32m---> 10\u001b[0;31m \u001b[0;32mdel\u001b[0m\u001b[0;34m(\u001b[0m\u001b[0mtemp\u001b[0m\u001b[0;34m[\u001b[0m\u001b[0;36m0\u001b[0m\u001b[0;34m]\u001b[0m\u001b[0;34m)\u001b[0m\u001b[0;34m\u001b[0m\u001b[0;34m\u001b[0m\u001b[0m\n\u001b[0m\u001b[1;32m     11\u001b[0m \u001b[0mprint\u001b[0m\u001b[0;34m(\u001b[0m\u001b[0mtemp\u001b[0m\u001b[0;34m)\u001b[0m\u001b[0;34m\u001b[0m\u001b[0;34m\u001b[0m\u001b[0m\n\u001b[1;32m     12\u001b[0m \u001b[0;31m# deleting entire tuple\u001b[0m\u001b[0;34m\u001b[0m\u001b[0;34m\u001b[0m\u001b[0;34m\u001b[0m\u001b[0m\n",
      "\u001b[0;31mTypeError\u001b[0m: 'tuple' object doesn't support item deletion"
     ]
    }
   ],
   "source": [
    "temp = (27, 30, 40, 50, 22, 21, 32, 33, 42, 19, 18, 17, 44, 10, 2, 4, 3, 45, 33, 22, 21, 30, 40, 50)\n",
    "\n",
    "# general built in functions that can be applied on any sequence\n",
    "print(len(temp))\n",
    "print(max(temp))\n",
    "print(min(temp))\n",
    "print(sum(temp)/len(temp))\n",
    "print(sorted(temp))\n",
    "# deleting specific element from a tuple\n",
    "del(temp[0])\n",
    "print(temp)\n",
    "# deleting entire tuple\n",
    "del(temp)\n",
    "print(temp)"
   ]
  },
  {
   "cell_type": "code",
   "execution_count": 59,
   "metadata": {},
   "outputs": [
    {
     "name": "stdout",
     "output_type": "stream",
     "text": [
      "40\n",
      "18\n",
      "2\n",
      "3\n",
      "(1, 'hello', 98.34)\n"
     ]
    }
   ],
   "source": [
    "# Accessing tuples and specific functions available in tuples\n",
    "\n",
    "temp = (27, 30, 40, 50, 22, 21, 32, 33, 42, 19, 18, 17, 44, 10, 2, 4, 3, 45, 33, 22, 21, 30, 40, 50)\n",
    "\n",
    "print(temp[2])\n",
    "print(temp[10])\n",
    "print(temp.count(40))\n",
    "print(temp.index(50))\n",
    "#del temp[0]\n",
    "#print(temp)\n",
    "\n",
    "rand_tuple = (1, 'hello', 98.34)\n",
    "print(rand_tuple)"
   ]
  },
  {
   "cell_type": "markdown",
   "metadata": {},
   "source": [
    "# String Operations"
   ]
  },
  {
   "cell_type": "code",
   "execution_count": 69,
   "metadata": {},
   "outputs": [
    {
     "name": "stdout",
     "output_type": "stream",
     "text": [
      "Hello world how are String doing String String?\n",
      "l\n",
      "6\n",
      "True\n",
      "True\n",
      "7\n",
      "['Hello', 'world', 'how', 'are', 'you', 'doing', 'you', 'you?']\n",
      "Hello Edureka Students how are you doing you you?\n",
      "Hello world how are you doing you you?\n",
      "False\n",
      "False\n",
      "False\n",
      "HELLO WORLD HOW ARE YOU DOING YOU YOU?\n",
      "hello world how are you doing you you?\n",
      "b'Hello world how are you doing you you?'\n",
      "Hello world how are you doing you you?\n",
      "Foo © bar 𝌆 baz ☃ qux\n",
      "?uoy uoy gniod uoy era woh dlrow olleH\n",
      "hello[1,2,3]\n"
     ]
    }
   ],
   "source": [
    "string = 'Hello world how are you doing you you?'\n",
    "\n",
    "print(string.replace('you', 'String'))\n",
    "\n",
    "print(string[2]) # accessing single character from a string\n",
    "\n",
    "print(string.find('w')) # identifies if a character is available in a string\n",
    "print(string.startswith('Hello')) # checks if string starts with a character or another string\n",
    "print(string.endswith('?')) # checks if string end with a character or another string\n",
    "print(string.count('o')) # count how many times a given character available in a string\n",
    "\n",
    "print(string.split()) # splits the given string based on separator provided\n",
    "print(string.replace('world', 'Edureka Students')) # replaces a given string with another string\n",
    "print(string)\n",
    "\n",
    "print(string.islower()) # checks if all characters in string is lower case\n",
    "print(string.isalpha()) # checks if all characters in string is alphabets only\n",
    "print(string.isnumeric()) # checks if given string is number\n",
    "\n",
    "print(string.upper()) # converts entire string to upper case\n",
    "print(string.lower()) # converts entire string to lower case\n",
    "\n",
    "print(string.encode('utf-8')) # converts string using utf-8 encoding\n",
    "e_string = string.encode('utf-8')\n",
    "print(e_string.decode('utf-8')) # decodes string using in utf-8 encoding format\n",
    "\n",
    "x = b'\\x46\\x6F\\x6F\\x20\\xC2\\xA9\\x20\\x62\\x61\\x72\\x20\\xF0\\x9D\\x8C\\x86\\x20\\x62\\x61\\x7A\\x20\\xE2\\x98\\x83\\x20\\x71\\x75\\x78'\n",
    "print(x.decode('utf-8'))\n",
    "\n",
    "print(string[::-1]) \n",
    "\n",
    "string = 'hello[1,2,3]'\n",
    "print(string)\n",
    "\n"
   ]
  },
  {
   "cell_type": "code",
   "execution_count": 6,
   "metadata": {},
   "outputs": [
    {
     "name": "stdout",
     "output_type": "stream",
     "text": [
      "[1414, 1313, 489, 131, 34, 23, 12]\n"
     ]
    }
   ],
   "source": [
    "x = [12, 23,34, 1414, 131, 1313, 489]\n",
    "\n",
    "# sequential search program\n",
    "print('Enter an element? ')\n",
    "n = int(input())\n",
    "\n",
    "# sequential search\n",
    "for i in x:\n",
    "    if n == i:\n",
    "        print('Element found')\n",
    "\n",
    "# alternative implementation  \n",
    "if n in x:\n",
    "    print('Element found')\n"
   ]
  },
  {
   "cell_type": "code",
   "execution_count": 7,
   "metadata": {},
   "outputs": [
    {
     "name": "stdout",
     "output_type": "stream",
     "text": [
      "[12, 23, 34, 131, 489, 1313, 1414]\n"
     ]
    }
   ],
   "source": [
    "x = [12, 23,34, 1414, 131, 1313, 489]\n",
    "\n",
    "# selecting sorting general implementation\n",
    "for i in range(0, len(x)):\n",
    "    for j in range(i+1, len(x)):\n",
    "        if x[i] > x[j]:\n",
    "            x[i], x[j] = x[j], x[i]\n",
    "\n",
    "print(x)"
   ]
  },
  {
   "cell_type": "code",
   "execution_count": 27,
   "metadata": {},
   "outputs": [
    {
     "name": "stdout",
     "output_type": "stream",
     "text": [
      "0\n",
      "1\n",
      "2\n",
      "3\n",
      "4\n",
      "5\n",
      "6\n",
      "7\n",
      "8\n",
      "9\n"
     ]
    }
   ],
   "source": [
    "for i in range(10): # 0, 1,2,3,4,5,6,7,8,9\n",
    "    print(i)"
   ]
  },
  {
   "cell_type": "markdown",
   "metadata": {},
   "source": [
    "# Sets Operations"
   ]
  },
  {
   "cell_type": "code",
   "execution_count": 10,
   "metadata": {},
   "outputs": [
    {
     "name": "stdout",
     "output_type": "stream",
     "text": [
      "[1, 2, 3, 4]\n",
      "{'apple', 'banana', 'cherry'}\n",
      "{'apple', 'pomegranate', 'banana', 'cherry', 'papaya', 'gauva'}\n",
      "{'cherry'}\n",
      "{2, 3}\n",
      "{'apple', 'banana'}\n",
      "{'apple', 'pomegranate', 'gauva', 'banana', 'papaya'}\n",
      "apple\n",
      "banana\n",
      "cherry\n"
     ]
    }
   ],
   "source": [
    "fruits1 = {\"apple\", \"banana\", \"cherry\", \"banana\", \"cherry\"}\n",
    "fruits2 = {'gauva', 'cherry', 'papaya', 'pomegranate'}\n",
    "\n",
    "# identifying unique elements using sets behaviour\n",
    "x = [1,2,3,4,1,2,1,3]\n",
    "print(list(set(x)))\n",
    "\n",
    "print(fruits1) # printing elements from fruits1 set\n",
    "print(fruits1.union(fruits2)) # union is collection of elements of fruits1 and fruits2\n",
    "print(fruits1.intersection(fruits2)) # intersection is obtaining common elements in fruits1 and fruits2\n",
    "x = [1,2,3]\n",
    "y = [3,2]\n",
    "print(set(x).intersection(y))\n",
    "print(fruits1.difference(fruits2)) # difference is elements only in fruits1 but not in fruits2\n",
    "# symmetric difference is collection of elements in fruits1 and fruits2 without common elements\n",
    "print(fruits1.symmetric_difference(fruits2)) \n",
    "\n",
    "# Accessing elements from a set\n",
    "for i in fruits1:\n",
    "    print(i)"
   ]
  },
  {
   "cell_type": "markdown",
   "metadata": {},
   "source": [
    "# Dictionary Operations"
   ]
  },
  {
   "cell_type": "code",
   "execution_count": 24,
   "metadata": {},
   "outputs": [
    {
     "name": "stdout",
     "output_type": "stream",
     "text": [
      "{'brand': 'Ford', 'model': 'Mustang', 'year': 1964}\n",
      "dict_keys(['brand', 'model', 'year'])\n",
      "dict_values(['Ford', 'Mustang', 1964])\n",
      "dict_items([('brand', 'Ford'), ('model', 'Mustang'), ('year', 1964)])\n",
      "Ford\n",
      "1964\n",
      "{'brand': 'Ford', 'model': 'Mustang', 'year': 1964, 'gear_type': 'automatic', 'Fuel': 'Petrol'}\n",
      "Ford\n",
      "Car is the default value given\n",
      "{'model': 'Mustang', 'year': 1964, 'gear_type': 'automatic', 'Fuel': 'Petrol'}\n",
      "{'model': 'Mustang', 'year': 1964, 'gear_type': 'automatic', 'Fuel': 'Petrol', 'city purchased': 'bangalore', 'year of purchase': 2020}\n",
      "4561487264\n",
      "4561487264\n",
      "4603984544\n",
      "4603954832\n",
      "{'model': 'Mustang', 'year': 1964, 'gear_type': 'automatic', 'Fuel': 'Petrol', 'city purchased': 'bangalore', 'year of purchase': 2020}\n",
      "{'model': 'Mustang', 'year': 1964, 'gear_type': 'automatic', 'Fuel': 'Petrol', 'city purchased': 'bangalore', 'year of purchase': 2020, 'city manufactured': 'UK'}\n",
      "{'model': 'Mustang', 'year': 1964, 'gear_type': 'automatic', 'Fuel': 'Petrol', 'city purchased': 'bangalore', 'year of purchase': 2020, 'city manufactured': 'UK'}\n",
      "{123: 'ravi, india', 345: 'hari, US', '111': 'rajesh, UK'}\n",
      "{123: 'ravi, india', 345: 'hari, US', '111': 'rajesh, UK'}\n",
      "emp id does not exists in our dictionary\n"
     ]
    }
   ],
   "source": [
    "vehicle_dict = {\"brand\": \"Ford\", \"model\": \"Mustang\", \"year\": 1964}\n",
    "\n",
    "# printing dictionary elements\n",
    "print(vehicle_dict)\n",
    "# getting keys from a dictionary\n",
    "print(vehicle_dict.keys())\n",
    "# getting values from a dictionary\n",
    "print(vehicle_dict.values())\n",
    "# getting key, value pair of dictionary elements as a tuple\n",
    "print(vehicle_dict.items())\n",
    "\n",
    "# Accessing elements in a dictionary\n",
    "print(vehicle_dict['brand'])\n",
    "print(vehicle_dict['year'])\n",
    "#print(vehicle_dict['Ford'])\n",
    "\n",
    "# Adding elements to a dictionary\n",
    "vehicle_dict['gear_type'] = 'automatic'\n",
    "vehicle_dict['Fuel'] = 'Petrol'\n",
    "print(vehicle_dict)\n",
    "\n",
    "# Getting element from a dictionary if key exists otherwise some default value\n",
    "print(vehicle_dict.get('brand', 'Car'))\n",
    "print(vehicle_dict.get('bran', 'Car is the default value given'))\n",
    "\n",
    "# deleting element from a dictionary\n",
    "del vehicle_dict['brand']\n",
    "print(vehicle_dict)\n",
    "\n",
    "# Adding another dictionary to existing one\n",
    "vehicle_dict2 = {'city purchased': 'bangalore', 'year of purchase': 2020}\n",
    "vehicle_dict.update(vehicle_dict2)\n",
    "print(vehicle_dict)\n",
    "\n",
    "# never try to copy like this because it copies references. \n",
    "x = 10\n",
    "y = x\n",
    "print(id(x))\n",
    "print(id(y))\n",
    "\n",
    "# getting a copy of dictionary\n",
    "vehicle_dict3 = vehicle_dict.copy()\n",
    "print(id(vehicle_dict3))\n",
    "print(id(vehicle_dict))\n",
    "print(vehicle_dict3)\n",
    "\n",
    "# setting default key and value if key does not exists\n",
    "vehicle_dict3.setdefault('city manufactured', 'UK')\n",
    "print(vehicle_dict3)\n",
    "vehicle_dict3.setdefault('year', 'UK') # can see year did not get modified here because year key exists\n",
    "print(vehicle_dict3)\n",
    "\n",
    "emp = {123: 'ravi, india', 345: 'hari, US'}\n",
    "#emp[123] = 'hari, california'\n",
    "emp.setdefault('111', 'rajesh, UK')\n",
    "print(emp)\n",
    "emp.setdefault('111', 'suresh, UK')\n",
    "print(emp)\n",
    "\n",
    "if 12332323 in emp:\n",
    "    print('emp id exists in dictionary')\n",
    "else:\n",
    "    print('emp id does not exists in our dictionary')"
   ]
  },
  {
   "cell_type": "code",
   "execution_count": 35,
   "metadata": {},
   "outputs": [
    {
     "name": "stdout",
     "output_type": "stream",
     "text": [
      "{'name': 'edureka', 'year': 2019, 'branches': ['india', 'US', 'UK']}\n",
      "{'name': 'ramana', 'year': 2019, 'branches': ['india', 'US', 'UK']}\n",
      "{'name': 'ramana', 'year': 2019, 'branches': ['india', 'US', 'UK'], 1: 100, 1.5: 1000, (1+2j): 988, (1, 2, 3): 1000}\n"
     ]
    }
   ],
   "source": [
    "x = {'name': 'edureka', 'year': 2001, 'year': 2019, 'branches': ['india', 'US', 'UK']}\n",
    "print(x)\n",
    "x['name'] = 'ramana'\n",
    "print(x)\n",
    "\n",
    "x[1] = 100\n",
    "x[1.5] = 1000\n",
    "x[1+2j] = 988\n",
    "x[(1,2,3)] = 1000\n",
    "\n",
    "print(x)"
   ]
  },
  {
   "cell_type": "code",
   "execution_count": 36,
   "metadata": {},
   "outputs": [
    {
     "name": "stdout",
     "output_type": "stream",
     "text": [
      "True\n"
     ]
    }
   ],
   "source": [
    "x = 10\n",
    "y = x\n",
    "print(x is y)"
   ]
  },
  {
   "cell_type": "code",
   "execution_count": 39,
   "metadata": {},
   "outputs": [
    {
     "ename": "TypeError",
     "evalue": "'int' object is not iterable",
     "output_type": "error",
     "traceback": [
      "\u001b[0;31m---------------------------------------------------------------------------\u001b[0m",
      "\u001b[0;31mTypeError\u001b[0m                                 Traceback (most recent call last)",
      "\u001b[0;32m<ipython-input-39-5907512d794a>\u001b[0m in \u001b[0;36m<module>\u001b[0;34m\u001b[0m\n\u001b[1;32m      1\u001b[0m \u001b[0mx\u001b[0m \u001b[0;34m=\u001b[0m \u001b[0;34m[\u001b[0m\u001b[0;36m1\u001b[0m\u001b[0;34m,\u001b[0m\u001b[0;36m2\u001b[0m\u001b[0;34m,\u001b[0m\u001b[0;36m3\u001b[0m\u001b[0;34m]\u001b[0m\u001b[0;34m\u001b[0m\u001b[0;34m\u001b[0m\u001b[0m\n\u001b[0;32m----> 2\u001b[0;31m \u001b[0mx\u001b[0m\u001b[0;34m.\u001b[0m\u001b[0mextend\u001b[0m\u001b[0;34m(\u001b[0m\u001b[0;36m1\u001b[0m\u001b[0;34m)\u001b[0m\u001b[0;34m\u001b[0m\u001b[0;34m\u001b[0m\u001b[0m\n\u001b[0m\u001b[1;32m      3\u001b[0m \u001b[0mprint\u001b[0m\u001b[0;34m(\u001b[0m\u001b[0mx\u001b[0m\u001b[0;34m)\u001b[0m\u001b[0;34m\u001b[0m\u001b[0;34m\u001b[0m\u001b[0m\n",
      "\u001b[0;31mTypeError\u001b[0m: 'int' object is not iterable"
     ]
    }
   ],
   "source": [
    "x = [1,2,3]\n",
    "x.extend(1)\n",
    "print(x)"
   ]
  },
  {
   "cell_type": "markdown",
   "metadata": {},
   "source": [
    "# List comprehensions"
   ]
  },
  {
   "cell_type": "code",
   "execution_count": 30,
   "metadata": {},
   "outputs": [
    {
     "name": "stdout",
     "output_type": "stream",
     "text": [
      "[0, 0, 0, 0, 0, 0, 0, 0, 0, 0]\n",
      "[0, 2, 4, 6, 8, 10, 12, 14, 16, 18, 20, 22, 24, 26, 28, 30, 32, 34, 36, 38, 40, 42, 44, 46, 48, 50, 52, 54, 56, 58, 60, 62, 64, 66, 68, 70, 72, 74, 76, 78, 80, 82, 84, 86, 88, 90, 92, 94, 96, 98]\n",
      "[0, 5, 10, 15, 20, 25, 30, 35, 40, 45, 50, 55, 60, 65, 70, 75, 80, 85, 90, 95]\n"
     ]
    }
   ],
   "source": [
    "# List comprehension syntax\n",
    "# list_var = [variable for-loop filter-condition]    \n",
    "# where list_var is a list variable, \n",
    "# variable is a normal identifier, \n",
    "# filter-condition is simple if or if else condition\n",
    "'''\n",
    "x = []\n",
    "for i in range(10):\n",
    "    x.append(0)\n",
    "'''\n",
    "\n",
    "# creating a list of 10 elements with values initialized to 0\n",
    "lst = [0 for i in range(10)]\n",
    "print(lst)\n",
    "\n",
    "# creating a list of even numbers \n",
    "lst = [i for i in range(100) if i % 2 == 0]\n",
    "print(lst)\n",
    "\n",
    "# creating a list of numbers only if they are multiples of 5\n",
    "lst = [i for i in range(100) if i % 5 == 0]\n",
    "print(lst)"
   ]
  },
  {
   "cell_type": "markdown",
   "metadata": {},
   "source": [
    "# Real time usage examples of Python Data structures"
   ]
  },
  {
   "cell_type": "code",
   "execution_count": 26,
   "metadata": {},
   "outputs": [
    {
     "name": "stdout",
     "output_type": "stream",
     "text": [
      "\n",
      "list elements:\n",
      "27\n",
      "30\n",
      "40\n",
      "50\n",
      "22\n",
      "\n",
      "list elements:\n",
      "0 27\n",
      "1 30\n",
      "2 40\n",
      "3 50\n",
      "4 22\n",
      "\n",
      "tuple elements:\n",
      "27\n",
      "30\n",
      "40\n",
      "50\n",
      "22\n",
      "\n",
      "set elements:\n",
      "apple\n",
      "banana\n",
      "cherry\n",
      "\n",
      "dictionary elements:\n",
      "brand Ford\n",
      "model Mustang\n",
      "year 1964\n",
      "\n",
      "dictionary elements:\n",
      "brand Ford\n",
      "model Mustang\n",
      "year 1964\n",
      "\n",
      "\"brand\" exists in vehicle dictionary\n",
      "\n",
      "Are two lists equal?  True\n",
      "\n",
      "Users only in set_1 are: {'user34'}\n"
     ]
    }
   ],
   "source": [
    "# How to traverse over list or tuple\n",
    "\n",
    "print('\\nlist elements:')\n",
    "temp = [27, 30, 40, 50, 22]\n",
    "for i in temp:\n",
    "    print(i)\n",
    "\n",
    "# printing list elements with index\n",
    "print('\\nlist elements:')\n",
    "temp = [27, 30, 40, 50, 22]\n",
    "for index, elem in enumerate(temp):\n",
    "    print(index, elem)\n",
    "    \n",
    "print('\\ntuple elements:')\n",
    "temp = (27, 30, 40, 50, 22)\n",
    "for i in temp:\n",
    "    print(i)\n",
    "\n",
    "print('\\nset elements:')\n",
    "fruits = {\"apple\", \"banana\", \"cherry\", \"banana\", \"cherry\"}\n",
    "for i in fruits:\n",
    "    print(i)\n",
    "\n",
    "vehicle_dict = {\"brand\": \"Ford\", \"model\": \"Mustang\", \"year\": 1964}\n",
    "print('\\ndictionary elements:')\n",
    "# for loop gets only keys in dictionary. Based on that we should be able to get value\n",
    "for i in vehicle_dict:\n",
    "    print(i, vehicle_dict[i])\n",
    "    \n",
    "print('\\ndictionary elements:')\n",
    "for key, value in vehicle_dict.items():\n",
    "    print(key, value)\n",
    "\n",
    "# check if key exists in dictionary\n",
    "if 'brand' in vehicle_dict:\n",
    "    print('\\n\"brand\" exists in vehicle dictionary')\n",
    "    \n",
    "# checking two unsorted list equal or not\n",
    "list_1 = [1,2,3,4,5,6, 8, 9]\n",
    "list_2 = [3,1,2, 9, 8, 4,5,6]\n",
    "\n",
    "print('\\nAre two lists equal? ', set(list_1) == set(list_2) )\n",
    "\n",
    "# Identify if two users are same or different\n",
    "# if different get the users who are not there in set_2\n",
    "set_1 = {'user1', 'user2', 'user34'}\n",
    "set_2 = {'user1', 'user2', 'user3'}\n",
    "\n",
    "diff = set_1 - set_2\n",
    "if not diff:\n",
    "    print('\\nUsers are same in both sets')\n",
    "elif diff:\n",
    "    print('\\nUsers only in set_1 are:', diff)"
   ]
  },
  {
   "cell_type": "code",
   "execution_count": 41,
   "metadata": {},
   "outputs": [
    {
     "ename": "TypeError",
     "evalue": "'tuple' object does not support item assignment",
     "output_type": "error",
     "traceback": [
      "\u001b[0;31m---------------------------------------------------------------------------\u001b[0m",
      "\u001b[0;31mTypeError\u001b[0m                                 Traceback (most recent call last)",
      "\u001b[0;32m<ipython-input-41-e5da664cce20>\u001b[0m in \u001b[0;36m<module>\u001b[0;34m\u001b[0m\n\u001b[1;32m      2\u001b[0m \u001b[0;34m\u001b[0m\u001b[0m\n\u001b[1;32m      3\u001b[0m \u001b[0mx\u001b[0m\u001b[0;34m[\u001b[0m\u001b[0;36m3\u001b[0m\u001b[0;34m]\u001b[0m \u001b[0;34m=\u001b[0m \u001b[0;34m(\u001b[0m\u001b[0;34m'hello'\u001b[0m\u001b[0;34m,\u001b[0m \u001b[0;34m'world'\u001b[0m\u001b[0;34m)\u001b[0m\u001b[0;34m\u001b[0m\u001b[0;34m\u001b[0m\u001b[0m\n\u001b[0;32m----> 4\u001b[0;31m \u001b[0mx\u001b[0m\u001b[0;34m[\u001b[0m\u001b[0;36m3\u001b[0m\u001b[0;34m]\u001b[0m\u001b[0;34m[\u001b[0m\u001b[0;36m0\u001b[0m\u001b[0;34m]\u001b[0m \u001b[0;34m=\u001b[0m \u001b[0;36m1233\u001b[0m\u001b[0;34m\u001b[0m\u001b[0;34m\u001b[0m\u001b[0m\n\u001b[0m\u001b[1;32m      5\u001b[0m \u001b[0mprint\u001b[0m\u001b[0;34m(\u001b[0m\u001b[0mx\u001b[0m\u001b[0;34m)\u001b[0m\u001b[0;34m\u001b[0m\u001b[0;34m\u001b[0m\u001b[0m\n",
      "\u001b[0;31mTypeError\u001b[0m: 'tuple' object does not support item assignment"
     ]
    }
   ],
   "source": [
    "x = {1: 'abc', 2: 'def'}\n",
    "\n",
    "x[3] = ('hello', 'world')\n",
    "x[3][0] = 1233\n",
    "print(x)"
   ]
  },
  {
   "cell_type": "markdown",
   "metadata": {},
   "source": [
    "# Interview Questions"
   ]
  },
  {
   "cell_type": "raw",
   "metadata": {},
   "source": [
    "'''\n",
    "\n",
    "1. What is the difference between list and Tuple?\n",
    "Ans) Lists are mutable in nature and can allow you to modify the elements. Tuples are immutable and will not allow \n",
    "elements to be modified once it is created. Also tuples are faster than lists because of the way it is organized in\n",
    "memory. \n",
    "\n",
    "2. What are the different types of comments in python?\n",
    "Ans) We have two types of comments in python. \n",
    "We can use single line comment using '#' symbol and multi-line comments using triple single quotes or triple\n",
    "double quotes.\n",
    "\n",
    "3. What is the difference between mutable and immutable data types?\n",
    "Ans) Mutable are the data types which can allow us to change elements once they are created. Immutable data type\n",
    "does not allow elements to be modified after it is created. \n",
    "Mutable data types are lists, sets, dictionary\n",
    "Immutable data types are integer, float, complex and tuples. \n",
    "\n",
    "4. What kind of keys can a dictionary have?\n",
    "Ans) Dictionay keys can be only immutable data types. They will not allow any mutable data type used as keys whereas\n",
    "values can be mutable or immutables types. \n",
    "\n",
    "5. What is a membership operator and how it is used?\n",
    "Ans) Membership operator is \"in\" in python which allow us to check if an element is member of a given object. \n",
    "The operator can be used on lists, strings, sets, tuples and dictionaries. \n",
    "\n",
    "6. How can you check if object reference of two elements are equal?\n",
    "Ans) \"is\" operator is used to check if object reference id of two elements are equal. The same can be achieved using \n",
    "id function as well. \n",
    "\n",
    "7. What is the difference between append and extend function in lists?\n",
    "Ans) append function is used to add a single object to list whereas extend function will allow us to add any iterable\n",
    "to the list object. Iterables in python are lists, tuples, dictionaries, sets, strings\n",
    "\n",
    "8. What is a sequence in python?\n",
    "Ans) Sequences are data type objects in python which we can navigate using relative positioning or indexing. \n",
    "Sequences in python are strings, lists, tuples. \n",
    "\n",
    "9. What are iterables in python?\n",
    "Ans) Iterables are objects in python that can be navigated or iterated upon. Iterables in python are \n",
    "lists, tuples, dictionaries, sets, strings.\n",
    "\n",
    "10) What are the different ways to reverse a list?\n",
    "Ans) We can reverse a list using reverse function in list or using list slicing. \n",
    "ex: lst = [10,12,2323, 2, 1]\n",
    "    lst.reverse() # to reverse a list\n",
    "    lst[::-1] # to reverse a list\n",
    "    \n",
    "'''"
   ]
  }
 ],
 "metadata": {
  "kernelspec": {
   "display_name": "Python 3",
   "language": "python",
   "name": "python3"
  },
  "language_info": {
   "codemirror_mode": {
    "name": "ipython",
    "version": 3
   },
   "file_extension": ".py",
   "mimetype": "text/x-python",
   "name": "python",
   "nbconvert_exporter": "python",
   "pygments_lexer": "ipython3",
   "version": "3.7.6"
  }
 },
 "nbformat": 4,
 "nbformat_minor": 4
}
